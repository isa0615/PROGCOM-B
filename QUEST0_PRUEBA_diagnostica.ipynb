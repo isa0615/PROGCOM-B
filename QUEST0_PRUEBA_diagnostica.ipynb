{
  "nbformat": 4,
  "nbformat_minor": 0,
  "metadata": {
    "colab": {
      "provenance": []
    },
    "kernelspec": {
      "name": "python3",
      "display_name": "Python 3"
    },
    "language_info": {
      "name": "python"
    }
  },
  "cells": [
    {
      "cell_type": "markdown",
      "source": [
        "#Prueba diagnostica"
      ],
      "metadata": {
        "id": "drURRZcbn4Oo"
      }
    },
    {
      "cell_type": "markdown",
      "source": [
        "1.\tEscribe un programa que reciba un número e indique si es positivo."
      ],
      "metadata": {
        "id": "pmQdASCuqEiG"
      }
    },
    {
      "cell_type": "code",
      "execution_count": 7,
      "metadata": {
        "id": "lX-6aojAnW6R",
        "colab": {
          "base_uri": "https://localhost:8080/"
        },
        "outputId": "799ac981-e1c5-4d76-9a72-654fcc4991f1"
      },
      "outputs": [
        {
          "name": "stdout",
          "output_type": "stream",
          "text": [
            "Ingrese un número-1\n"
          ]
        }
      ],
      "source": [
        "num=int(input(\"Ingrese un número \"))"
      ]
    },
    {
      "cell_type": "code",
      "source": [
        "if num>0:\n",
        "  print(\"El número es positivo \")\n",
        "else: print(\"El número es negativo\")"
      ],
      "metadata": {
        "colab": {
          "base_uri": "https://localhost:8080/"
        },
        "id": "kjbG-n8DrI6F",
        "outputId": "b587fb12-4589-497f-b9d7-1f870c819b04"
      },
      "execution_count": 8,
      "outputs": [
        {
          "output_type": "stream",
          "name": "stdout",
          "text": [
            "El número es negativo\n"
          ]
        }
      ]
    },
    {
      "cell_type": "markdown",
      "source": [
        "2\tEscribe un programa que reciba una edad y determine si la persona es mayor de edad."
      ],
      "metadata": {
        "id": "c6LKzBBCrlXF"
      }
    },
    {
      "cell_type": "code",
      "source": [
        "edad=int(input(\"Ingrese su edad \"))"
      ],
      "metadata": {
        "colab": {
          "base_uri": "https://localhost:8080/"
        },
        "id": "Pr4cApVwrrgU",
        "outputId": "70bde05e-461d-4ac9-a0f5-220f2632d1e2"
      },
      "execution_count": 13,
      "outputs": [
        {
          "name": "stdout",
          "output_type": "stream",
          "text": [
            "Ingrese su edad 18\n"
          ]
        }
      ]
    },
    {
      "cell_type": "code",
      "source": [
        "if edad>17:\n",
        "  print(\"Es mayor de edad \")\n",
        "else: print(\"No es mayor de edad \")"
      ],
      "metadata": {
        "colab": {
          "base_uri": "https://localhost:8080/"
        },
        "id": "cPUYSC3rrwpM",
        "outputId": "d4b5dc27-e39f-40cc-8dad-842a2b7e1564"
      },
      "execution_count": 12,
      "outputs": [
        {
          "output_type": "stream",
          "name": "stdout",
          "text": [
            "Es mayor de edad \n"
          ]
        }
      ]
    },
    {
      "cell_type": "markdown",
      "source": [
        "3\tEscribe un programa que reciba dos números e imprima el mayor."
      ],
      "metadata": {
        "id": "OqFydSbcsEAk"
      }
    },
    {
      "cell_type": "code",
      "source": [
        "num1=int(input(\"Ingrese número 1 \"))\n",
        "num2=int(input(\"Ingrese número 2 \"))"
      ],
      "metadata": {
        "colab": {
          "base_uri": "https://localhost:8080/"
        },
        "id": "WBSUP9u0sE3k",
        "outputId": "8e9fcf74-2999-48cb-80d9-b752f1c3cc53"
      },
      "execution_count": 16,
      "outputs": [
        {
          "name": "stdout",
          "output_type": "stream",
          "text": [
            "Ingrese número 1 3\n",
            "Ingrese número 2 5\n"
          ]
        }
      ]
    },
    {
      "cell_type": "code",
      "source": [
        "if num1>num2:\n",
        "  print(\"Numero 1 es mayor \")\n",
        "else: print(\"Número 2 es mayor \")"
      ],
      "metadata": {
        "colab": {
          "base_uri": "https://localhost:8080/"
        },
        "id": "7MiB2_1gsY-8",
        "outputId": "395228e4-9d5c-4f69-f2e8-3e2e535a11ed"
      },
      "execution_count": 17,
      "outputs": [
        {
          "output_type": "stream",
          "name": "stdout",
          "text": [
            "Número 2 es mayor \n"
          ]
        }
      ]
    },
    {
      "cell_type": "markdown",
      "source": [
        "4\tEscribe un programa que reciba una calificación (0-100) e indique si es Aprobado (>=60) o Reprobado."
      ],
      "metadata": {
        "id": "ANh_eXurtM4r"
      }
    },
    {
      "cell_type": "code",
      "source": [
        "cal=int(input(\"Ingrese calificación \"))\n"
      ],
      "metadata": {
        "colab": {
          "base_uri": "https://localhost:8080/"
        },
        "id": "pHLSw0NYtPq7",
        "outputId": "c38ef292-a8d2-422a-d91d-5941c629db63"
      },
      "execution_count": 22,
      "outputs": [
        {
          "name": "stdout",
          "output_type": "stream",
          "text": [
            "Ingrese calificación 2\n"
          ]
        }
      ]
    },
    {
      "cell_type": "code",
      "source": [
        "if cal>=60:\n",
        "  print(\"Aprovado \")\n",
        "else: print(\"Reprobado \")"
      ],
      "metadata": {
        "colab": {
          "base_uri": "https://localhost:8080/"
        },
        "id": "7ozxLFSJtyS0",
        "outputId": "bb28c49b-0002-4333-b8be-0fb559763dd3"
      },
      "execution_count": 23,
      "outputs": [
        {
          "output_type": "stream",
          "name": "stdout",
          "text": [
            "Reprobado \n"
          ]
        }
      ]
    },
    {
      "cell_type": "markdown",
      "source": [
        "5\tEscribe un programa que determine si un número es par o impar"
      ],
      "metadata": {
        "id": "kLqWY_oluEkC"
      }
    },
    {
      "cell_type": "code",
      "source": [
        "num=int(input(\"Ingrese un numero entero \"))"
      ],
      "metadata": {
        "colab": {
          "base_uri": "https://localhost:8080/"
        },
        "id": "88pTY9ZEufuK",
        "outputId": "f60a6c13-6d33-48ec-b5ea-7c4ea80c8a68"
      },
      "execution_count": 25,
      "outputs": [
        {
          "name": "stdout",
          "output_type": "stream",
          "text": [
            "Ingrese un numero entero 2\n"
          ]
        }
      ]
    },
    {
      "cell_type": "code",
      "source": [
        "if (num%2==0):\n",
        "  print(\"Numero es par \")\n",
        "else: print(f\"Número es impar\")"
      ],
      "metadata": {
        "colab": {
          "base_uri": "https://localhost:8080/"
        },
        "id": "OxKZQqj3uFQC",
        "outputId": "d93cfc09-7502-4550-b455-5f7b42a455eb"
      },
      "execution_count": 28,
      "outputs": [
        {
          "output_type": "stream",
          "name": "stdout",
          "text": [
            "Numero es par \n"
          ]
        }
      ]
    },
    {
      "cell_type": "markdown",
      "source": [
        "6\tEscribe un programa que reciba tres números e imprima el mayor de los tres."
      ],
      "metadata": {
        "id": "Dl3jfhdJv10J"
      }
    },
    {
      "cell_type": "code",
      "source": [
        "num1=int(input(\"Ingrese el número 1: \"))\n",
        "num2=int(input(\"Ingrese el número 2: \"))\n",
        "num3=int(input(\"Ingrese el número 3: \"))"
      ],
      "metadata": {
        "colab": {
          "base_uri": "https://localhost:8080/"
        },
        "id": "oc_p86tjv2gp",
        "outputId": "03d898c6-43a6-4095-cb4b-b0ea67f0366c"
      },
      "execution_count": 29,
      "outputs": [
        {
          "name": "stdout",
          "output_type": "stream",
          "text": [
            "Ingrese el número 1: 5\n",
            "Ingrese el número 2: 9\n",
            "Ingrese el número 3: 2\n"
          ]
        }
      ]
    },
    {
      "cell_type": "code",
      "source": [
        "if num1==num2 and num1==num3:\n",
        " print(\"Todos los números son iguales. \")\n",
        "elif num1==num2 and num1>num3:\n",
        " print(\"Los números 1 y 2 son mayores\")\n",
        "elif num1==num2 and num1<num3:\n",
        " print(\"El número 3 es el mayore\")\n",
        "elif num1==num3 and num1>num2:\n",
        " print(\"Los números 1 y 3 son mayores\")\n",
        "elif num1==num3 and num1>num2:\n",
        " print(\"El número 2 es el mayor\")\n",
        "elif num2==num3 and num2>num:\n",
        " print(\"Los números 2 y 3 son mayores\")\n",
        "elif num2==num3 and num2<num1:\n",
        " print(\"El número 1 es el mayor\")\n",
        "elif num1>num2 and num1>num3:\n",
        " print(\"El númeroo 1 es el mayor\")\n",
        "elif num2>num1 and num2>num3:\n",
        " print(\"El número 2 es el mayor\")\n",
        "else: print(\"El número 3 es el mayor\")"
      ],
      "metadata": {
        "colab": {
          "base_uri": "https://localhost:8080/"
        },
        "id": "ZVw3UOiawCj4",
        "outputId": "c574492e-9aae-4513-830d-0eb3fb6d1229"
      },
      "execution_count": 30,
      "outputs": [
        {
          "output_type": "stream",
          "name": "stdout",
          "text": [
            "El número 2 es el mayor\n"
          ]
        }
      ]
    },
    {
      "cell_type": "markdown",
      "source": [
        "7\tEscribe un programa que reciba un año e indique si es bisiesto."
      ],
      "metadata": {
        "id": "zcqMy6yfwfb5"
      }
    },
    {
      "cell_type": "code",
      "source": [
        "año=int(input(\"Ingrese el año \"))"
      ],
      "metadata": {
        "colab": {
          "base_uri": "https://localhost:8080/"
        },
        "id": "10lH663CwiQw",
        "outputId": "3d8a7f0e-a1fb-46dc-ee40-b9666fee2321"
      },
      "execution_count": 33,
      "outputs": [
        {
          "name": "stdout",
          "output_type": "stream",
          "text": [
            "Ingrese el año 2001\n"
          ]
        }
      ]
    },
    {
      "cell_type": "code",
      "source": [
        "nd=int(input(\"Ingrese el número de días del año \"))"
      ],
      "metadata": {
        "colab": {
          "base_uri": "https://localhost:8080/"
        },
        "id": "OSwQgQcHyey_",
        "outputId": "b88804a5-3737-41fd-a1eb-5e289dd9ff7c"
      },
      "execution_count": 38,
      "outputs": [
        {
          "name": "stdout",
          "output_type": "stream",
          "text": [
            "Ingrese el número de días del año 365\n"
          ]
        }
      ]
    },
    {
      "cell_type": "code",
      "source": [
        "if nd==365:\n",
        "  print(\"Año no fue bisiesto \")\n",
        "elif nd==366:\n",
        "  print(\"Año fue bisiesto \")\n",
        "else: print(\"El número de días no corresponde \")"
      ],
      "metadata": {
        "colab": {
          "base_uri": "https://localhost:8080/"
        },
        "id": "9oPxgi0lyoje",
        "outputId": "7b158d75-9359-4778-c099-051f58376981"
      },
      "execution_count": 39,
      "outputs": [
        {
          "output_type": "stream",
          "name": "stdout",
          "text": [
            "Año no fue bisiesto \n"
          ]
        }
      ]
    },
    {
      "cell_type": "markdown",
      "source": [
        "8\tEscribe un programa que reciba una contraseña e indique si cumple con las siguientes reglas: más de 8 caracteres, contiene al menos un número y una letra mayúscula."
      ],
      "metadata": {
        "id": "bfXxHQwc1KhV"
      }
    },
    {
      "cell_type": "code",
      "source": [
        "año=int(input(\"Ingrese la contraseña \"))"
      ],
      "metadata": {
        "id": "MBH9W5fi1LAG"
      },
      "execution_count": null,
      "outputs": []
    },
    {
      "cell_type": "code",
      "source": [],
      "metadata": {
        "id": "lJBYNdWL10Rd"
      },
      "execution_count": null,
      "outputs": []
    },
    {
      "cell_type": "markdown",
      "source": [
        "9\tEscribe un programa que lea un número e imprima “Fizz” si es divisible por 3, “Buzz” si es divisible por 5 y “FizzBuzz” si es divisible por ambos."
      ],
      "metadata": {
        "id": "ICNjWDTX1bsc"
      }
    },
    {
      "cell_type": "code",
      "source": [
        "num=int(input(\"Escriba un número: \"))"
      ],
      "metadata": {
        "colab": {
          "base_uri": "https://localhost:8080/"
        },
        "id": "zFjOqEj91eQE",
        "outputId": "61df677b-7100-45a8-eee7-c6778340ef59"
      },
      "execution_count": 42,
      "outputs": [
        {
          "name": "stdout",
          "output_type": "stream",
          "text": [
            "Escriba un número: 2\n"
          ]
        }
      ]
    },
    {
      "cell_type": "code",
      "source": [
        "if num % 3 == 0 and num % 5 == 0:\n",
        "    print(\"FizzBuzz\")\n",
        "elif num % 3 == 0:\n",
        "    print(\"Fizz\")\n",
        "elif num % 5 == 0:\n",
        "    print(\"Buzz\")\n",
        "else:\n",
        "    print(\"El número no es divisible por 3 ni por 5.\")"
      ],
      "metadata": {
        "colab": {
          "base_uri": "https://localhost:8080/"
        },
        "id": "yCtxv1vE1nUs",
        "outputId": "efc94ebf-2bce-433c-d6be-fae3f1d1b8a7"
      },
      "execution_count": 45,
      "outputs": [
        {
          "output_type": "stream",
          "name": "stdout",
          "text": [
            "El número no es divisible por 3 ni por 5.\n"
          ]
        }
      ]
    }
  ]
}