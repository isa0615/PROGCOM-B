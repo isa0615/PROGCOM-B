{
  "nbformat": 4,
  "nbformat_minor": 0,
  "metadata": {
    "colab": {
      "provenance": []
    },
    "kernelspec": {
      "name": "python3",
      "display_name": "Python 3"
    },
    "language_info": {
      "name": "python"
    }
  },
  "cells": [
    {
      "cell_type": "markdown",
      "source": [
        "##Estructuras de repetición\n",
        "Se emplea cuando se desea repetir una parte del código, dad una condición"
      ],
      "metadata": {
        "id": "X5b2b9B8mOKI"
      }
    },
    {
      "cell_type": "markdown",
      "source": [
        "##Lista\n",
        "* Son un conjunto de tipos de datos, **indexado**, separado por comas, y encerrado entre [].\n",
        "* Todos los elementos dentro de una lista, se empiezan a contar desde 0.\n",
        "### Creación de listas\n",
        "* Forma general: listas=[]\n",
        "* Forma manual: animales=[\"gato\", \"perro\".\"zorro\", \"oso\"]\n",
        "* Por conversión: número=list(range(10))\n"
      ],
      "metadata": {
        "id": "-zCR23HowjwE"
      }
    },
    {
      "cell_type": "code",
      "execution_count": null,
      "metadata": {
        "id": "ZgSAbWdVmNFE"
      },
      "outputs": [],
      "source": [
        "lista=[]"
      ]
    },
    {
      "cell_type": "code",
      "source": [
        "type(lista)"
      ],
      "metadata": {
        "id": "JIPaB5hQy3Ly"
      },
      "execution_count": null,
      "outputs": []
    },
    {
      "cell_type": "code",
      "source": [
        "zorro=(1,2,3,4)\n",
        "animales=[\"gato\", \"perro\", zorro, \"oso\"]\n",
        "animales"
      ],
      "metadata": {
        "colab": {
          "base_uri": "https://localhost:8080/"
        },
        "id": "SlUAX1HZyaFi",
        "outputId": "c67c49db-9b57-443c-ba31-3f758da91cd8"
      },
      "execution_count": null,
      "outputs": [
        {
          "output_type": "execute_result",
          "data": {
            "text/plain": [
              "['gato', 'perro', (1, 2, 3, 4), 'oso']"
            ]
          },
          "metadata": {},
          "execution_count": 1
        }
      ]
    },
    {
      "cell_type": "code",
      "source": [
        "type(zorro)"
      ],
      "metadata": {
        "colab": {
          "base_uri": "https://localhost:8080/"
        },
        "id": "I2YRSVwCyxFa",
        "outputId": "e189f52b-c402-48a2-b412-2c406bd1df49"
      },
      "execution_count": null,
      "outputs": [
        {
          "output_type": "execute_result",
          "data": {
            "text/plain": [
              "tuple"
            ]
          },
          "metadata": {},
          "execution_count": 2
        }
      ]
    },
    {
      "cell_type": "code",
      "source": [
        "número=list(range(10))\n",
        "número"
      ],
      "metadata": {
        "colab": {
          "base_uri": "https://localhost:8080/"
        },
        "id": "KkRADHgNzi45",
        "outputId": "6f53ac98-b5f0-4fe4-9fa3-8481e0e3b300"
      },
      "execution_count": null,
      "outputs": [
        {
          "output_type": "execute_result",
          "data": {
            "text/plain": [
              "[0, 1, 2, 3, 4, 5, 6, 7, 8, 9]"
            ]
          },
          "metadata": {},
          "execution_count": 4
        }
      ]
    },
    {
      "cell_type": "code",
      "source": [
        "range(10)"
      ],
      "metadata": {
        "colab": {
          "base_uri": "https://localhost:8080/"
        },
        "id": "TZVMFAe2zr1q",
        "outputId": "cdee7bc6-114f-4bb5-aabb-24791cb642e3"
      },
      "execution_count": null,
      "outputs": [
        {
          "output_type": "execute_result",
          "data": {
            "text/plain": [
              "range(0, 10)"
            ]
          },
          "metadata": {},
          "execution_count": 5
        }
      ]
    },
    {
      "cell_type": "markdown",
      "source": [
        "##Estructura para - for\n",
        "Se usa cuando\n",
        "* Se sabe **cuántas veces** se repite la acción.\n",
        "* Está compuesta por un contador y una condición.\n",
        "* **Contador**: Identifica cuántas veces se va repetir el bucle y con qué frecuencia.\n",
        "* **Condición**: Evalúa cuándo se detiene.\n",
        "\n",
        "Por definición:\n",
        "\n",
        "\n",
        "```\n",
        "for variable in range (vi,vf+a, paso):\n",
        "  aquí se repite parte del codigo.\n",
        "```\n",
        "Donde\n",
        "1. vi: Condición inicial. Donde arranco a contar.\n",
        "2. vf+1: Condición final . Dónde dejo de contar+1\n",
        "3. paso: Frecuecnia de conteo\n",
        "\n",
        "for para recorrido de listas\n",
        "flor=[\"amapola\", \"rosa\", \"tulipan\", \"orquidea\"]\n",
        "*El para va a iterar tantas veces como elementos tenga la lista\n",
        "* la variable dentro del para, toma como valor, cada elemento de lista\n",
        "\n",
        "\n",
        "```\n",
        "fro variable in lista:\n",
        "  variable\n",
        "```\n",
        "\n",
        "\n"
      ],
      "metadata": {
        "id": "3TZ3naDBmXQu"
      }
    },
    {
      "cell_type": "code",
      "source": [
        "#Creando una lista de nombre flor\n",
        "flor=[\"amapola\", \"rosa\", \"tulipan\", \"orquidea\"]\n",
        "for rosa in flor:\n",
        "  print(rosa)\n",
        "  if flores==\"tilipan\"\n",
        "    break"
      ],
      "metadata": {
        "colab": {
          "base_uri": "https://localhost:8080/"
        },
        "id": "lwDuk9Gi1S7w",
        "outputId": "d464d14c-ad1b-4887-8d39-6bd6cf175746"
      },
      "execution_count": null,
      "outputs": [
        {
          "output_type": "stream",
          "name": "stdout",
          "text": [
            "amapola\n",
            "rosa\n",
            "tulipan\n",
            "orquidea\n"
          ]
        }
      ]
    },
    {
      "cell_type": "markdown",
      "source": [
        "##Estructura while\n",
        "* Se emplea cuando **NO SE SABE** cuántas veces de debe repetir una acción, pero si se conoce su condición de parada (CP).\n",
        "\n",
        "* Condición incial: Dónde se detiene el ciclo\n",
        "* Modificador de condición inicial\n",
        "\n",
        "Estructura generak de mientras\n",
        "\n",
        "\n",
        "```\n",
        "Condición inicial\n",
        "while (condición==condición final):\n",
        "  modificadr de condición incial\n",
        "```\n",
        "* Banderas: son booleanos\n",
        "* Son preguntas\n",
        "* Son contadores o aocmuladores\n"
      ],
      "metadata": {
        "id": "jLvqFkz929P-"
      }
    }
  ]
}