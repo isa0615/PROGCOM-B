{
  "nbformat": 4,
  "nbformat_minor": 0,
  "metadata": {
    "colab": {
      "provenance": []
    },
    "kernelspec": {
      "name": "python3",
      "display_name": "Python 3"
    },
    "language_info": {
      "name": "python"
    }
  },
  "cells": [
    {
      "cell_type": "markdown",
      "source": [
        "#Estructuras de selección\n",
        "Se emplean cuando quiero evaluar una condición. El resultado de la evaluación de esta condición siempre se da en Booleano (of)"
      ],
      "metadata": {
        "id": "HogyTWP4LUDq"
      }
    },
    {
      "cell_type": "markdown",
      "source": [
        "##Estructura if-else\n",
        "\n",
        "\n",
        "```\n",
        "if(condición):\n",
        "  entro aquí, si la condición dio V\n",
        "else:\n",
        "  entro aquí si la condición=F\n",
        "```\n",
        "\n",
        "\n"
      ],
      "metadata": {
        "id": "kZSA1BBxLlXq"
      }
    },
    {
      "cell_type": "markdown",
      "source": [
        "7. Año bisiesto"
      ],
      "metadata": {
        "id": "RXD7bOEhMOAZ"
      }
    },
    {
      "cell_type": "code",
      "execution_count": 2,
      "metadata": {
        "colab": {
          "base_uri": "https://localhost:8080/"
        },
        "id": "0DpnTfcTLTT0",
        "outputId": "557504a3-1c18-46a1-e63c-d1130d2a88fc"
      },
      "outputs": [
        {
          "output_type": "stream",
          "name": "stdout",
          "text": [
            "Introduzca un año2025\n",
            "2025 NO es un año bisiesto\n"
          ]
        }
      ],
      "source": [
        "#1. Es divisible entre 4\n",
        "#2. Es divisible entre 400 pero no entre 100\n",
        "año=int(input(\"Introduzca un año\"))\n",
        "if(año%4==0 and año%100!=0):\n",
        "  print(f\"{año} es un año bisiesto\")\n",
        "else:\n",
        "  if(año%400==0):\n",
        "    print(f\"{año} es un año bisisesto\")\n",
        "  else:\n",
        "    print(f\"{año} NO es un año bisiesto\")"
      ]
    },
    {
      "cell_type": "markdown",
      "source": [
        "##Estructura de decisión múltiple if elif else\n",
        "Se emplea cuando hay más de una decisión\n",
        "\n",
        "\n",
        "```\n",
        "if(cond1):\n",
        "  si cond1 es verdadero, entro aquí\n",
        "elif (cond2):\n",
        "  i cond1 es falso, pero cond2 es verdadero, entro aquí\n",
        "elif(cond3):\n",
        "  si cond1 y cond2 son falso, pero con3 es verdadero, entro aquí\n",
        "else: si con1 y con2 y cond 3 y cond n son falsas, entrará aquí\n",
        "```\n",
        "\n"
      ],
      "metadata": {
        "id": "eeXEmZhoOnOH"
      }
    },
    {
      "cell_type": "code",
      "source": [
        "if(año%4==0 and año%100!=0):print(f\"{año} es un año bisiesto\")\n",
        "elif(año%400==0): print(f\"{año} es un año bisisesto\")\n",
        "else:print(f\"{año} NO es un año bisiesto\")"
      ],
      "metadata": {
        "colab": {
          "base_uri": "https://localhost:8080/"
        },
        "id": "TsXnRKXKOj5f",
        "outputId": "9b92293c-5e35-43f4-9e1c-61981ea3b433"
      },
      "execution_count": 3,
      "outputs": [
        {
          "output_type": "stream",
          "name": "stdout",
          "text": [
            "2025 NO es un año bisiesto\n"
          ]
        }
      ]
    },
    {
      "cell_type": "markdown",
      "source": [
        "1.\tEscribe un programa que reciba un número e indique si es positivo."
      ],
      "metadata": {
        "id": "wD6RbF9USiG8"
      }
    },
    {
      "cell_type": "code",
      "source": [
        "num=int(input(\"Ingrese un número \"))\n",
        "if num>0:\n",
        "  print(\"El número es positivo \")\n",
        "else: print(\"El número es negativo\")"
      ],
      "metadata": {
        "colab": {
          "base_uri": "https://localhost:8080/"
        },
        "id": "Z10Gf8DvS9-s",
        "outputId": "a1f06f5e-f8f9-4cbf-c8cb-56e9237fb4f6"
      },
      "execution_count": 4,
      "outputs": [
        {
          "output_type": "stream",
          "name": "stdout",
          "text": [
            "Ingrese un número 5\n",
            "El número es positivo \n"
          ]
        }
      ]
    },
    {
      "cell_type": "code",
      "source": [
        "num=int(input(\"Ingrese un número \"))\n",
        "if num>0:print(\"El número es positivo \")\n",
        "elif num<0: print(\"El número es negativo\")\n",
        "else: print(\"El número es cero\")"
      ],
      "metadata": {
        "colab": {
          "base_uri": "https://localhost:8080/"
        },
        "id": "RlJYGORBTN8M",
        "outputId": "c856d678-308f-4453-a74e-1847c2aa8382"
      },
      "execution_count": 6,
      "outputs": [
        {
          "output_type": "stream",
          "name": "stdout",
          "text": [
            "Ingrese un número 5\n",
            "El número es positivo \n"
          ]
        }
      ]
    },
    {
      "cell_type": "code",
      "source": [
        "numero = int(input(\"Ingrese un número: \"))\n",
        "print(f\"{numero} es positivo\") if numero > 0 else print(f\"{numero} NO es positivo\")"
      ],
      "metadata": {
        "colab": {
          "base_uri": "https://localhost:8080/"
        },
        "id": "W5bwfCzab7NG",
        "outputId": "60de1f0f-11ca-4a3b-a318-92cc27cf65b3"
      },
      "execution_count": 5,
      "outputs": [
        {
          "output_type": "stream",
          "name": "stdout",
          "text": [
            "Ingrese un número: 2\n",
            "2 es positivo\n"
          ]
        }
      ]
    },
    {
      "cell_type": "markdown",
      "source": [
        "2\tEscribe un programa que reciba una edad y determine si la persona es mayor de edad."
      ],
      "metadata": {
        "id": "D1eEnq5QUIvz"
      }
    },
    {
      "cell_type": "code",
      "source": [
        "edad=int(input(\"Ingrese su edad \"))\n",
        "if edad>17:\n",
        "  print(\"Es mayor de edad \")\n",
        "else: print(\"No es mayor de edad \")"
      ],
      "metadata": {
        "id": "7iqaeKc_UJUz"
      },
      "execution_count": null,
      "outputs": []
    },
    {
      "cell_type": "code",
      "source": [
        "edad=int(input(\"Ingrese su edad \"))\n",
        "if edad>17:print(\"Es mayor de edad en Colombia \")\n",
        "elif edad>=21:print(\"Es mayor de edad en Estados Unidos\")\n",
        "else: print(\"No es mayor de edad \")"
      ],
      "metadata": {
        "id": "fTtAJI1XUatr"
      },
      "execution_count": null,
      "outputs": []
    },
    {
      "cell_type": "code",
      "source": [
        "edad=int(input(\"Ingrese su edad \"))\n",
        "print(\"Es mayor de edad \")if edad>17 else print(\"No es mayor de edad \")"
      ],
      "metadata": {
        "colab": {
          "base_uri": "https://localhost:8080/"
        },
        "id": "tQ0ER5j8d_e9",
        "outputId": "a71caeb5-66ac-4a6b-e75b-e7e30e16ab23"
      },
      "execution_count": 6,
      "outputs": [
        {
          "output_type": "stream",
          "name": "stdout",
          "text": [
            "Ingrese su edad 25\n",
            "Es mayor de edad \n"
          ]
        }
      ]
    },
    {
      "cell_type": "markdown",
      "source": [
        "##Operador terniario\n",
        "Programar una estructura de selleción en una sola línea de código\n",
        "\n",
        "\n",
        "```\n",
        "(Lo que se debe ejecutar, si la condición es verdadera) if (condición) else (lo que se debe ejecutar, si la condición es falsa)\n",
        "\n",
        "```\n",
        "\n"
      ],
      "metadata": {
        "id": "EEdF18GOU3e7"
      }
    },
    {
      "cell_type": "code",
      "source": [
        "print(f\"{año} es un año bisiesto\") if(año%4==0 and año%100!=0) else (print(f\"{año} es un año bisisesto\")) if(año%400==0) else print(f\"{año} NO es un año bisiesto\")"
      ],
      "metadata": {
        "id": "KrHifGJqXUkB"
      },
      "execution_count": null,
      "outputs": []
    },
    {
      "cell_type": "code",
      "source": [
        "año=int(input(\"Introduzca un año\"))\n",
        "b=\"\"\n",
        "a=(f\"{año} es un año bisiesto\") if(año%4==0 and año%100!=0) else b\n",
        "b=(f\"{año} es un año bisiesto\") if(año%400==0) else print(f\"{año} NO es un año bisiesto\")\n",
        "print(a)"
      ],
      "metadata": {
        "colab": {
          "base_uri": "https://localhost:8080/"
        },
        "id": "1t7QnVl8Ydtw",
        "outputId": "1c17ac10-4db9-47b2-a8f3-7e2a2c6f9421"
      },
      "execution_count": 2,
      "outputs": [
        {
          "output_type": "stream",
          "name": "stdout",
          "text": [
            "Introduzca un año2025\n",
            "2025 NO es un año bisiesto\n",
            "\n"
          ]
        }
      ]
    },
    {
      "cell_type": "markdown",
      "source": [
        "3\tEscribe un programa que reciba dos números e imprima el mayor."
      ],
      "metadata": {
        "id": "FrB3qfjCXLMJ"
      }
    },
    {
      "cell_type": "code",
      "source": [],
      "metadata": {
        "id": "9F3THuseVQaT"
      },
      "execution_count": null,
      "outputs": []
    }
  ]
}